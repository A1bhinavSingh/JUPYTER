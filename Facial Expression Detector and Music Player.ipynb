{
 "cells": [
  {
   "cell_type": "code",
   "execution_count": 80,
   "metadata": {},
   "outputs": [],
   "source": [
    "import tensorflow.compat.v1 as tf\n",
    "config=tf.ConfigProto()\n",
    "config.gpu_options.allow_growth=True\n",
    "session=tf.Session(config=config)"
   ]
  },
  {
   "cell_type": "code",
   "execution_count": 81,
   "metadata": {},
   "outputs": [],
   "source": [
    "import numpy as np\n",
    "import pandas as pd\n",
    "from keras.preprocessing.image import ImageDataGenerator,load_img\n",
    "from keras.utils import to_categorical\n",
    "from sklearn.model_selection import train_test_split\n",
    "import matplotlib.pyplot as plt\n",
    "import random\n",
    "import os"
   ]
  },
  {
   "cell_type": "code",
   "execution_count": 82,
   "metadata": {},
   "outputs": [],
   "source": [
    "#Image Properties\n",
    "Image_Width=48\n",
    "Image_Height=48\n",
    "Image_Channel=3\n",
    "Image_Size=(Image_Width,Image_Height)"
   ]
  },
  {
   "cell_type": "code",
   "execution_count": 83,
   "metadata": {},
   "outputs": [],
   "source": [
    "#Preparing dataset\n",
    "#(The code in this cell is inspired from a blog by DATAFLAIR TEAM)\n",
    "filenames=os.listdir(\"./Training\")\n",
    "categories=[]\n",
    "for f_name in filenames:\n",
    "    category=f_name[0:2]\n",
    "    if category== \"An\":\n",
    "        categories.append(\"Angry\")\n",
    "    elif category==\"Fe\":\n",
    "        categories.append(\"Fear\")\n",
    "    elif category==\"Ha\":\n",
    "        categories.append(\"Happy\")\n",
    "    elif category==\"Ne\":\n",
    "        categories.append(\"Neutral\")\n",
    "    elif category==\"Sa\":\n",
    "        categories.append(\"Sad\")\n",
    "    else:\n",
    "        categories.append(\"Surprise\")\n"
   ]
  },
  {
   "cell_type": "code",
   "execution_count": 84,
   "metadata": {},
   "outputs": [],
   "source": [
    "df=pd.DataFrame({\"filenames\":filenames,\"category\":categories})"
   ]
  },
  {
   "cell_type": "code",
   "execution_count": 85,
   "metadata": {},
   "outputs": [
    {
     "data": {
      "text/html": [
       "<div>\n",
       "<style scoped>\n",
       "    .dataframe tbody tr th:only-of-type {\n",
       "        vertical-align: middle;\n",
       "    }\n",
       "\n",
       "    .dataframe tbody tr th {\n",
       "        vertical-align: top;\n",
       "    }\n",
       "\n",
       "    .dataframe thead th {\n",
       "        text-align: right;\n",
       "    }\n",
       "</style>\n",
       "<table border=\"1\" class=\"dataframe\">\n",
       "  <thead>\n",
       "    <tr style=\"text-align: right;\">\n",
       "      <th></th>\n",
       "      <th>filenames</th>\n",
       "      <th>category</th>\n",
       "    </tr>\n",
       "  </thead>\n",
       "  <tbody>\n",
       "    <tr>\n",
       "      <th>0</th>\n",
       "      <td>Angry-1.jpg</td>\n",
       "      <td>Angry</td>\n",
       "    </tr>\n",
       "    <tr>\n",
       "      <th>1</th>\n",
       "      <td>Angry-10.jpg</td>\n",
       "      <td>Angry</td>\n",
       "    </tr>\n",
       "    <tr>\n",
       "      <th>2</th>\n",
       "      <td>Angry-100.jpg</td>\n",
       "      <td>Angry</td>\n",
       "    </tr>\n",
       "    <tr>\n",
       "      <th>3</th>\n",
       "      <td>Angry-1000.jpg</td>\n",
       "      <td>Angry</td>\n",
       "    </tr>\n",
       "    <tr>\n",
       "      <th>4</th>\n",
       "      <td>Angry-1001.jpg</td>\n",
       "      <td>Angry</td>\n",
       "    </tr>\n",
       "    <tr>\n",
       "      <th>...</th>\n",
       "      <td>...</td>\n",
       "      <td>...</td>\n",
       "    </tr>\n",
       "    <tr>\n",
       "      <th>28268</th>\n",
       "      <td>Suprise-996.jpg</td>\n",
       "      <td>Surprise</td>\n",
       "    </tr>\n",
       "    <tr>\n",
       "      <th>28269</th>\n",
       "      <td>Suprise-997.jpg</td>\n",
       "      <td>Surprise</td>\n",
       "    </tr>\n",
       "    <tr>\n",
       "      <th>28270</th>\n",
       "      <td>Suprise-998.jpg</td>\n",
       "      <td>Surprise</td>\n",
       "    </tr>\n",
       "    <tr>\n",
       "      <th>28271</th>\n",
       "      <td>Suprise-999.jpg</td>\n",
       "      <td>Surprise</td>\n",
       "    </tr>\n",
       "    <tr>\n",
       "      <th>28272</th>\n",
       "      <td>Suprise.jpg</td>\n",
       "      <td>Surprise</td>\n",
       "    </tr>\n",
       "  </tbody>\n",
       "</table>\n",
       "<p>28273 rows × 2 columns</p>\n",
       "</div>"
      ],
      "text/plain": [
       "             filenames  category\n",
       "0          Angry-1.jpg     Angry\n",
       "1         Angry-10.jpg     Angry\n",
       "2        Angry-100.jpg     Angry\n",
       "3       Angry-1000.jpg     Angry\n",
       "4       Angry-1001.jpg     Angry\n",
       "...                ...       ...\n",
       "28268  Suprise-996.jpg  Surprise\n",
       "28269  Suprise-997.jpg  Surprise\n",
       "28270  Suprise-998.jpg  Surprise\n",
       "28271  Suprise-999.jpg  Surprise\n",
       "28272      Suprise.jpg  Surprise\n",
       "\n",
       "[28273 rows x 2 columns]"
      ]
     },
     "execution_count": 85,
     "metadata": {},
     "output_type": "execute_result"
    }
   ],
   "source": [
    "df"
   ]
  },
  {
   "cell_type": "code",
   "execution_count": 86,
   "metadata": {},
   "outputs": [
    {
     "data": {
      "text/html": [
       "<div>\n",
       "<style scoped>\n",
       "    .dataframe tbody tr th:only-of-type {\n",
       "        vertical-align: middle;\n",
       "    }\n",
       "\n",
       "    .dataframe tbody tr th {\n",
       "        vertical-align: top;\n",
       "    }\n",
       "\n",
       "    .dataframe thead th {\n",
       "        text-align: right;\n",
       "    }\n",
       "</style>\n",
       "<table border=\"1\" class=\"dataframe\">\n",
       "  <thead>\n",
       "    <tr style=\"text-align: right;\">\n",
       "      <th></th>\n",
       "      <th>filenames</th>\n",
       "      <th>category</th>\n",
       "    </tr>\n",
       "  </thead>\n",
       "  <tbody>\n",
       "    <tr>\n",
       "      <th>5000</th>\n",
       "      <td>Fear-1903.jpg</td>\n",
       "      <td>Fear</td>\n",
       "    </tr>\n",
       "    <tr>\n",
       "      <th>5001</th>\n",
       "      <td>Fear-1904.jpg</td>\n",
       "      <td>Fear</td>\n",
       "    </tr>\n",
       "    <tr>\n",
       "      <th>5002</th>\n",
       "      <td>Fear-1905.jpg</td>\n",
       "      <td>Fear</td>\n",
       "    </tr>\n",
       "    <tr>\n",
       "      <th>5003</th>\n",
       "      <td>Fear-1906.jpg</td>\n",
       "      <td>Fear</td>\n",
       "    </tr>\n",
       "    <tr>\n",
       "      <th>5004</th>\n",
       "      <td>Fear-1907.jpg</td>\n",
       "      <td>Fear</td>\n",
       "    </tr>\n",
       "    <tr>\n",
       "      <th>...</th>\n",
       "      <td>...</td>\n",
       "      <td>...</td>\n",
       "    </tr>\n",
       "    <tr>\n",
       "      <th>28268</th>\n",
       "      <td>Suprise-996.jpg</td>\n",
       "      <td>Surprise</td>\n",
       "    </tr>\n",
       "    <tr>\n",
       "      <th>28269</th>\n",
       "      <td>Suprise-997.jpg</td>\n",
       "      <td>Surprise</td>\n",
       "    </tr>\n",
       "    <tr>\n",
       "      <th>28270</th>\n",
       "      <td>Suprise-998.jpg</td>\n",
       "      <td>Surprise</td>\n",
       "    </tr>\n",
       "    <tr>\n",
       "      <th>28271</th>\n",
       "      <td>Suprise-999.jpg</td>\n",
       "      <td>Surprise</td>\n",
       "    </tr>\n",
       "    <tr>\n",
       "      <th>28272</th>\n",
       "      <td>Suprise.jpg</td>\n",
       "      <td>Surprise</td>\n",
       "    </tr>\n",
       "  </tbody>\n",
       "</table>\n",
       "<p>23273 rows × 2 columns</p>\n",
       "</div>"
      ],
      "text/plain": [
       "             filenames  category\n",
       "5000     Fear-1903.jpg      Fear\n",
       "5001     Fear-1904.jpg      Fear\n",
       "5002     Fear-1905.jpg      Fear\n",
       "5003     Fear-1906.jpg      Fear\n",
       "5004     Fear-1907.jpg      Fear\n",
       "...                ...       ...\n",
       "28268  Suprise-996.jpg  Surprise\n",
       "28269  Suprise-997.jpg  Surprise\n",
       "28270  Suprise-998.jpg  Surprise\n",
       "28271  Suprise-999.jpg  Surprise\n",
       "28272      Suprise.jpg  Surprise\n",
       "\n",
       "[23273 rows x 2 columns]"
      ]
     },
     "execution_count": 86,
     "metadata": {},
     "output_type": "execute_result"
    }
   ],
   "source": [
    "df.iloc[5000:]"
   ]
  },
  {
   "cell_type": "code",
   "execution_count": 87,
   "metadata": {},
   "outputs": [
    {
     "data": {
      "text/html": [
       "<div>\n",
       "<style scoped>\n",
       "    .dataframe tbody tr th:only-of-type {\n",
       "        vertical-align: middle;\n",
       "    }\n",
       "\n",
       "    .dataframe tbody tr th {\n",
       "        vertical-align: top;\n",
       "    }\n",
       "\n",
       "    .dataframe thead th {\n",
       "        text-align: right;\n",
       "    }\n",
       "</style>\n",
       "<table border=\"1\" class=\"dataframe\">\n",
       "  <thead>\n",
       "    <tr style=\"text-align: right;\">\n",
       "      <th></th>\n",
       "      <th>filenames</th>\n",
       "      <th>category</th>\n",
       "    </tr>\n",
       "  </thead>\n",
       "  <tbody>\n",
       "    <tr>\n",
       "      <th>0</th>\n",
       "      <td>Happy-3764.jpg</td>\n",
       "      <td>Happy</td>\n",
       "    </tr>\n",
       "    <tr>\n",
       "      <th>1</th>\n",
       "      <td>Neutral-603.jpg</td>\n",
       "      <td>Neutral</td>\n",
       "    </tr>\n",
       "    <tr>\n",
       "      <th>2</th>\n",
       "      <td>Angry-329.jpg</td>\n",
       "      <td>Angry</td>\n",
       "    </tr>\n",
       "    <tr>\n",
       "      <th>3</th>\n",
       "      <td>Happy-1488.jpg</td>\n",
       "      <td>Happy</td>\n",
       "    </tr>\n",
       "    <tr>\n",
       "      <th>4</th>\n",
       "      <td>Fear-1516.jpg</td>\n",
       "      <td>Fear</td>\n",
       "    </tr>\n",
       "    <tr>\n",
       "      <th>...</th>\n",
       "      <td>...</td>\n",
       "      <td>...</td>\n",
       "    </tr>\n",
       "    <tr>\n",
       "      <th>28268</th>\n",
       "      <td>Fear-767.jpg</td>\n",
       "      <td>Fear</td>\n",
       "    </tr>\n",
       "    <tr>\n",
       "      <th>28269</th>\n",
       "      <td>Angry-944.jpg</td>\n",
       "      <td>Angry</td>\n",
       "    </tr>\n",
       "    <tr>\n",
       "      <th>28270</th>\n",
       "      <td>Happy-5043.jpg</td>\n",
       "      <td>Happy</td>\n",
       "    </tr>\n",
       "    <tr>\n",
       "      <th>28271</th>\n",
       "      <td>Suprise-2008.jpg</td>\n",
       "      <td>Surprise</td>\n",
       "    </tr>\n",
       "    <tr>\n",
       "      <th>28272</th>\n",
       "      <td>Sad-3155.jpg</td>\n",
       "      <td>Sad</td>\n",
       "    </tr>\n",
       "  </tbody>\n",
       "</table>\n",
       "<p>28273 rows × 2 columns</p>\n",
       "</div>"
      ],
      "text/plain": [
       "              filenames  category\n",
       "0        Happy-3764.jpg     Happy\n",
       "1       Neutral-603.jpg   Neutral\n",
       "2         Angry-329.jpg     Angry\n",
       "3        Happy-1488.jpg     Happy\n",
       "4         Fear-1516.jpg      Fear\n",
       "...                 ...       ...\n",
       "28268      Fear-767.jpg      Fear\n",
       "28269     Angry-944.jpg     Angry\n",
       "28270    Happy-5043.jpg     Happy\n",
       "28271  Suprise-2008.jpg  Surprise\n",
       "28272      Sad-3155.jpg       Sad\n",
       "\n",
       "[28273 rows x 2 columns]"
      ]
     },
     "execution_count": 87,
     "metadata": {},
     "output_type": "execute_result"
    }
   ],
   "source": [
    "df=df.sample(frac=1).reset_index(drop=True)\n",
    "df"
   ]
  },
  {
   "cell_type": "code",
   "execution_count": 89,
   "metadata": {},
   "outputs": [
    {
     "data": {
      "text/html": [
       "<div>\n",
       "<style scoped>\n",
       "    .dataframe tbody tr th:only-of-type {\n",
       "        vertical-align: middle;\n",
       "    }\n",
       "\n",
       "    .dataframe tbody tr th {\n",
       "        vertical-align: top;\n",
       "    }\n",
       "\n",
       "    .dataframe thead th {\n",
       "        text-align: right;\n",
       "    }\n",
       "</style>\n",
       "<table border=\"1\" class=\"dataframe\">\n",
       "  <thead>\n",
       "    <tr style=\"text-align: right;\">\n",
       "      <th></th>\n",
       "      <th>filenames</th>\n",
       "      <th>category</th>\n",
       "    </tr>\n",
       "  </thead>\n",
       "  <tbody>\n",
       "    <tr>\n",
       "      <th>0</th>\n",
       "      <td>Happy-3764.jpg</td>\n",
       "      <td>Happy</td>\n",
       "    </tr>\n",
       "    <tr>\n",
       "      <th>1</th>\n",
       "      <td>Neutral-603.jpg</td>\n",
       "      <td>Neutral</td>\n",
       "    </tr>\n",
       "    <tr>\n",
       "      <th>2</th>\n",
       "      <td>Angry-329.jpg</td>\n",
       "      <td>Angry</td>\n",
       "    </tr>\n",
       "    <tr>\n",
       "      <th>3</th>\n",
       "      <td>Happy-1488.jpg</td>\n",
       "      <td>Happy</td>\n",
       "    </tr>\n",
       "    <tr>\n",
       "      <th>4</th>\n",
       "      <td>Fear-1516.jpg</td>\n",
       "      <td>Fear</td>\n",
       "    </tr>\n",
       "    <tr>\n",
       "      <th>...</th>\n",
       "      <td>...</td>\n",
       "      <td>...</td>\n",
       "    </tr>\n",
       "    <tr>\n",
       "      <th>28268</th>\n",
       "      <td>Fear-767.jpg</td>\n",
       "      <td>Fear</td>\n",
       "    </tr>\n",
       "    <tr>\n",
       "      <th>28269</th>\n",
       "      <td>Angry-944.jpg</td>\n",
       "      <td>Angry</td>\n",
       "    </tr>\n",
       "    <tr>\n",
       "      <th>28270</th>\n",
       "      <td>Happy-5043.jpg</td>\n",
       "      <td>Happy</td>\n",
       "    </tr>\n",
       "    <tr>\n",
       "      <th>28271</th>\n",
       "      <td>Suprise-2008.jpg</td>\n",
       "      <td>Surprise</td>\n",
       "    </tr>\n",
       "    <tr>\n",
       "      <th>28272</th>\n",
       "      <td>Sad-3155.jpg</td>\n",
       "      <td>Sad</td>\n",
       "    </tr>\n",
       "  </tbody>\n",
       "</table>\n",
       "<p>28273 rows × 2 columns</p>\n",
       "</div>"
      ],
      "text/plain": [
       "              filenames  category\n",
       "0        Happy-3764.jpg     Happy\n",
       "1       Neutral-603.jpg   Neutral\n",
       "2         Angry-329.jpg     Angry\n",
       "3        Happy-1488.jpg     Happy\n",
       "4         Fear-1516.jpg      Fear\n",
       "...                 ...       ...\n",
       "28268      Fear-767.jpg      Fear\n",
       "28269     Angry-944.jpg     Angry\n",
       "28270    Happy-5043.jpg     Happy\n",
       "28271  Suprise-2008.jpg  Surprise\n",
       "28272      Sad-3155.jpg       Sad\n",
       "\n",
       "[28273 rows x 2 columns]"
      ]
     },
     "execution_count": 89,
     "metadata": {},
     "output_type": "execute_result"
    }
   ],
   "source": [
    "df"
   ]
  },
  {
   "cell_type": "code",
   "execution_count": 90,
   "metadata": {},
   "outputs": [],
   "source": [
    "train_df,validate_df=train_test_split(df,test_size=0.20,random_state=42)\n",
    "train_df=train_df.reset_index(drop=True)\n",
    "validate_df=validate_df.reset_index(drop=True)"
   ]
  },
  {
   "cell_type": "code",
   "execution_count": 91,
   "metadata": {},
   "outputs": [
    {
     "data": {
      "text/html": [
       "<div>\n",
       "<style scoped>\n",
       "    .dataframe tbody tr th:only-of-type {\n",
       "        vertical-align: middle;\n",
       "    }\n",
       "\n",
       "    .dataframe tbody tr th {\n",
       "        vertical-align: top;\n",
       "    }\n",
       "\n",
       "    .dataframe thead th {\n",
       "        text-align: right;\n",
       "    }\n",
       "</style>\n",
       "<table border=\"1\" class=\"dataframe\">\n",
       "  <thead>\n",
       "    <tr style=\"text-align: right;\">\n",
       "      <th></th>\n",
       "      <th>filenames</th>\n",
       "      <th>category</th>\n",
       "    </tr>\n",
       "  </thead>\n",
       "  <tbody>\n",
       "    <tr>\n",
       "      <th>0</th>\n",
       "      <td>Neutral-526.jpg</td>\n",
       "      <td>Neutral</td>\n",
       "    </tr>\n",
       "    <tr>\n",
       "      <th>1</th>\n",
       "      <td>Suprise-1349.jpg</td>\n",
       "      <td>Surprise</td>\n",
       "    </tr>\n",
       "    <tr>\n",
       "      <th>2</th>\n",
       "      <td>Fear-3702.jpg</td>\n",
       "      <td>Fear</td>\n",
       "    </tr>\n",
       "    <tr>\n",
       "      <th>3</th>\n",
       "      <td>Suprise-1275.jpg</td>\n",
       "      <td>Surprise</td>\n",
       "    </tr>\n",
       "    <tr>\n",
       "      <th>4</th>\n",
       "      <td>Sad-4476.jpg</td>\n",
       "      <td>Sad</td>\n",
       "    </tr>\n",
       "    <tr>\n",
       "      <th>...</th>\n",
       "      <td>...</td>\n",
       "      <td>...</td>\n",
       "    </tr>\n",
       "    <tr>\n",
       "      <th>22613</th>\n",
       "      <td>Happy-4153.jpg</td>\n",
       "      <td>Happy</td>\n",
       "    </tr>\n",
       "    <tr>\n",
       "      <th>22614</th>\n",
       "      <td>Sad-1206.jpg</td>\n",
       "      <td>Sad</td>\n",
       "    </tr>\n",
       "    <tr>\n",
       "      <th>22615</th>\n",
       "      <td>Sad-4153.jpg</td>\n",
       "      <td>Sad</td>\n",
       "    </tr>\n",
       "    <tr>\n",
       "      <th>22616</th>\n",
       "      <td>Suprise-2735.jpg</td>\n",
       "      <td>Surprise</td>\n",
       "    </tr>\n",
       "    <tr>\n",
       "      <th>22617</th>\n",
       "      <td>Angry-1347.jpg</td>\n",
       "      <td>Angry</td>\n",
       "    </tr>\n",
       "  </tbody>\n",
       "</table>\n",
       "<p>22618 rows × 2 columns</p>\n",
       "</div>"
      ],
      "text/plain": [
       "              filenames  category\n",
       "0       Neutral-526.jpg   Neutral\n",
       "1      Suprise-1349.jpg  Surprise\n",
       "2         Fear-3702.jpg      Fear\n",
       "3      Suprise-1275.jpg  Surprise\n",
       "4          Sad-4476.jpg       Sad\n",
       "...                 ...       ...\n",
       "22613    Happy-4153.jpg     Happy\n",
       "22614      Sad-1206.jpg       Sad\n",
       "22615      Sad-4153.jpg       Sad\n",
       "22616  Suprise-2735.jpg  Surprise\n",
       "22617    Angry-1347.jpg     Angry\n",
       "\n",
       "[22618 rows x 2 columns]"
      ]
     },
     "execution_count": 91,
     "metadata": {},
     "output_type": "execute_result"
    }
   ],
   "source": [
    "train_df"
   ]
  },
  {
   "cell_type": "code",
   "execution_count": 92,
   "metadata": {},
   "outputs": [
    {
     "data": {
      "text/html": [
       "<div>\n",
       "<style scoped>\n",
       "    .dataframe tbody tr th:only-of-type {\n",
       "        vertical-align: middle;\n",
       "    }\n",
       "\n",
       "    .dataframe tbody tr th {\n",
       "        vertical-align: top;\n",
       "    }\n",
       "\n",
       "    .dataframe thead th {\n",
       "        text-align: right;\n",
       "    }\n",
       "</style>\n",
       "<table border=\"1\" class=\"dataframe\">\n",
       "  <thead>\n",
       "    <tr style=\"text-align: right;\">\n",
       "      <th></th>\n",
       "      <th>filenames</th>\n",
       "      <th>category</th>\n",
       "    </tr>\n",
       "  </thead>\n",
       "  <tbody>\n",
       "    <tr>\n",
       "      <th>0</th>\n",
       "      <td>Happy-1627.jpg</td>\n",
       "      <td>Happy</td>\n",
       "    </tr>\n",
       "    <tr>\n",
       "      <th>1</th>\n",
       "      <td>Fear-2674.jpg</td>\n",
       "      <td>Fear</td>\n",
       "    </tr>\n",
       "    <tr>\n",
       "      <th>2</th>\n",
       "      <td>Sad-1126.jpg</td>\n",
       "      <td>Sad</td>\n",
       "    </tr>\n",
       "    <tr>\n",
       "      <th>3</th>\n",
       "      <td>Neutral-2698.jpg</td>\n",
       "      <td>Neutral</td>\n",
       "    </tr>\n",
       "    <tr>\n",
       "      <th>4</th>\n",
       "      <td>Happy-479.jpg</td>\n",
       "      <td>Happy</td>\n",
       "    </tr>\n",
       "    <tr>\n",
       "      <th>...</th>\n",
       "      <td>...</td>\n",
       "      <td>...</td>\n",
       "    </tr>\n",
       "    <tr>\n",
       "      <th>5650</th>\n",
       "      <td>Fear-523.jpg</td>\n",
       "      <td>Fear</td>\n",
       "    </tr>\n",
       "    <tr>\n",
       "      <th>5651</th>\n",
       "      <td>Neutral-2254.jpg</td>\n",
       "      <td>Neutral</td>\n",
       "    </tr>\n",
       "    <tr>\n",
       "      <th>5652</th>\n",
       "      <td>Sad-817.jpg</td>\n",
       "      <td>Sad</td>\n",
       "    </tr>\n",
       "    <tr>\n",
       "      <th>5653</th>\n",
       "      <td>Sad-3244.jpg</td>\n",
       "      <td>Sad</td>\n",
       "    </tr>\n",
       "    <tr>\n",
       "      <th>5654</th>\n",
       "      <td>Neutral-2962.jpg</td>\n",
       "      <td>Neutral</td>\n",
       "    </tr>\n",
       "  </tbody>\n",
       "</table>\n",
       "<p>5655 rows × 2 columns</p>\n",
       "</div>"
      ],
      "text/plain": [
       "             filenames category\n",
       "0       Happy-1627.jpg    Happy\n",
       "1        Fear-2674.jpg     Fear\n",
       "2         Sad-1126.jpg      Sad\n",
       "3     Neutral-2698.jpg  Neutral\n",
       "4        Happy-479.jpg    Happy\n",
       "...                ...      ...\n",
       "5650      Fear-523.jpg     Fear\n",
       "5651  Neutral-2254.jpg  Neutral\n",
       "5652       Sad-817.jpg      Sad\n",
       "5653      Sad-3244.jpg      Sad\n",
       "5654  Neutral-2962.jpg  Neutral\n",
       "\n",
       "[5655 rows x 2 columns]"
      ]
     },
     "execution_count": 92,
     "metadata": {},
     "output_type": "execute_result"
    }
   ],
   "source": [
    "validate_df"
   ]
  },
  {
   "cell_type": "code",
   "execution_count": 93,
   "metadata": {},
   "outputs": [],
   "source": [
    "total_train=train_df.shape[0]\n",
    "total_validate=validate_df.shape[0]\n",
    "batch_size=64"
   ]
  },
  {
   "cell_type": "code",
   "execution_count": 94,
   "metadata": {},
   "outputs": [
    {
     "data": {
      "text/plain": [
       "(22618, 5655)"
      ]
     },
     "execution_count": 94,
     "metadata": {},
     "output_type": "execute_result"
    }
   ],
   "source": [
    "total_train,total_validate"
   ]
  },
  {
   "cell_type": "code",
   "execution_count": 95,
   "metadata": {},
   "outputs": [
    {
     "name": "stdout",
     "output_type": "stream",
     "text": [
      "Found 22618 validated image filenames belonging to 6 classes.\n"
     ]
    }
   ],
   "source": [
    "train_datagen=ImageDataGenerator(rescale=1./255,shear_range=0.1,zoom_range=0.2,horizontal_flip=True,width_shift_range=0.1,height_shift_range=0.1)\n",
    "train_generator=train_datagen.flow_from_dataframe(train_df,\"./Training\",x_col=\"filenames\",y_col=\"category\",target_size=Image_Size,class_mode=\"categorical\",batch_size=batch_size)"
   ]
  },
  {
   "cell_type": "code",
   "execution_count": 96,
   "metadata": {},
   "outputs": [
    {
     "name": "stdout",
     "output_type": "stream",
     "text": [
      "Found 5655 validated image filenames belonging to 6 classes.\n"
     ]
    }
   ],
   "source": [
    "validation_datagen=ImageDataGenerator(rescale=1./255)\n",
    "validation_genertor=validation_datagen.flow_from_dataframe(validate_df,\"./Training\",x_col=\"filenames\",y_col=\"category\",target_size=Image_Size,class_mode=\"categorical\",batch_size=batch_size)"
   ]
  },
  {
   "cell_type": "code",
   "execution_count": 97,
   "metadata": {},
   "outputs": [],
   "source": [
    "#Creating neural model\n",
    "import tensorflow as tf\n",
    "import keras\n",
    "from keras.layers import Conv2D,MaxPooling2D,Dropout,Flatten,Dense,Activation,BatchNormalization\n",
    "model=tf.keras.models.Sequential()\n",
    "#First Layer\n",
    "model.add(Conv2D(64,(5,5),input_shape=[48,48,3],activation=\"relu\",padding=\"same\"))\n",
    "model.add(BatchNormalization())\n",
    "model.add(Conv2D(64,(5,5),activation=\"relu\",padding=\"same\"))\n",
    "model.add(MaxPooling2D(pool_size=(2,2)))\n",
    "#Second Layer\n",
    "model.add(Conv2D(128,(5,5),activation=\"relu\",padding=\"same\"))\n",
    "model.add(BatchNormalization())\n",
    "model.add(Conv2D(128,(5,5),activation=\"relu\",padding=\"same\"))\n",
    "model.add(MaxPooling2D(pool_size=(2,2)))\n",
    "#Third Layer\n",
    "model.add(Conv2D(256,(3,3),activation=\"relu\",padding=\"same\"))\n",
    "model.add(BatchNormalization())\n",
    "model.add(Conv2D(256,(3,3),activation=\"relu\",padding=\"same\"))\n",
    "model.add(MaxPooling2D(pool_size=(2,2)))\n",
    "#Final Layer\n",
    "model.add(Flatten())\n",
    "model.add(Dense(128))\n",
    "model.add(BatchNormalization())\n",
    "model.add(Activation(\"relu\"))\n",
    "model.add(Dropout(0.2))\n",
    "model.add(Dense(6,activation=\"softmax\"))\n"
   ]
  },
  {
   "cell_type": "code",
   "execution_count": 98,
   "metadata": {},
   "outputs": [],
   "source": [
    "model.compile(loss=\"categorical_crossentropy\",optimizer=tf.keras.optimizers.Adam(\n",
    "    learning_rate=3e-4),metrics=[\"accuracy\"])"
   ]
  },
  {
   "cell_type": "code",
   "execution_count": 99,
   "metadata": {},
   "outputs": [],
   "source": [
    "#Call backs\n",
    "from keras.callbacks import EarlyStopping,ReduceLROnPlateau\n",
    "earlystop=EarlyStopping(patience=10)\n",
    "learning_rate_reduction=ReduceLROnPlateau(monitor=\"val_accuracy\",patience=2,verbose=1,factor=0.5,min_lr=0.00001)\n",
    "call_backs=[earlystop,learning_rate_reduction]"
   ]
  },
  {
   "cell_type": "code",
   "execution_count": 100,
   "metadata": {},
   "outputs": [
    {
     "name": "stdout",
     "output_type": "stream",
     "text": [
      "Epoch 1/15\n",
      "354/353 [==============================] - 920s 3s/step - loss: 1.7492 - accuracy: 0.2928 - val_loss: 1.8605 - val_accuracy: 0.2739 - lr: 3.0000e-04\n",
      "Epoch 2/15\n",
      "354/353 [==============================] - 3575s 10s/step - loss: 1.5448 - accuracy: 0.3889 - val_loss: 1.5764 - val_accuracy: 0.3563 - lr: 3.0000e-04\n",
      "Epoch 3/15\n",
      "354/353 [==============================] - 1219s 3s/step - loss: 1.4039 - accuracy: 0.4475 - val_loss: 1.5937 - val_accuracy: 0.4366 - lr: 3.0000e-04\n",
      "Epoch 4/15\n",
      "354/353 [==============================] - 1409s 4s/step - loss: 1.2915 - accuracy: 0.4980 - val_loss: 1.2245 - val_accuracy: 0.5270 - lr: 3.0000e-04\n",
      "Epoch 5/15\n",
      "354/353 [==============================] - 1968s 6s/step - loss: 1.2068 - accuracy: 0.5327 - val_loss: 1.1465 - val_accuracy: 0.5583 - lr: 3.0000e-04\n",
      "Epoch 6/15\n",
      "354/353 [==============================] - 743s 2s/step - loss: 1.1568 - accuracy: 0.5548 - val_loss: 1.1502 - val_accuracy: 0.5588 - lr: 3.0000e-04\n",
      "Epoch 7/15\n",
      "354/353 [==============================] - 749s 2s/step - loss: 1.1054 - accuracy: 0.5782 - val_loss: 1.1119 - val_accuracy: 0.5735 - lr: 3.0000e-04\n",
      "Epoch 8/15\n",
      "354/353 [==============================] - 748s 2s/step - loss: 1.0750 - accuracy: 0.5859 - val_loss: 1.0936 - val_accuracy: 0.5804 - lr: 3.0000e-04\n",
      "Epoch 9/15\n",
      "354/353 [==============================] - 747s 2s/step - loss: 1.0445 - accuracy: 0.6020 - val_loss: 1.1369 - val_accuracy: 0.5705 - lr: 3.0000e-04\n",
      "Epoch 10/15\n",
      "354/353 [==============================] - ETA: -1s - loss: 1.0125 - accuracy: 0.6144\n",
      "Epoch 00010: ReduceLROnPlateau reducing learning rate to 0.0001500000071246177.\n",
      "354/353 [==============================] - 746s 2s/step - loss: 1.0125 - accuracy: 0.6144 - val_loss: 1.1533 - val_accuracy: 0.5706 - lr: 3.0000e-04\n",
      "Epoch 11/15\n",
      "354/353 [==============================] - 746s 2s/step - loss: 0.9566 - accuracy: 0.6376 - val_loss: 0.9781 - val_accuracy: 0.6271 - lr: 1.5000e-04\n",
      "Epoch 12/15\n",
      "354/353 [==============================] - 745s 2s/step - loss: 0.9263 - accuracy: 0.6496 - val_loss: 0.9831 - val_accuracy: 0.6354 - lr: 1.5000e-04\n",
      "Epoch 13/15\n",
      "354/353 [==============================] - 745s 2s/step - loss: 0.9032 - accuracy: 0.6568 - val_loss: 0.9719 - val_accuracy: 0.6352 - lr: 1.5000e-04\n",
      "Epoch 14/15\n",
      "354/353 [==============================] - 757s 2s/step - loss: 0.8905 - accuracy: 0.6627 - val_loss: 0.9640 - val_accuracy: 0.6355 - lr: 1.5000e-04\n",
      "Epoch 15/15\n",
      "354/353 [==============================] - 746s 2s/step - loss: 0.8689 - accuracy: 0.6726 - val_loss: 1.0400 - val_accuracy: 0.6216 - lr: 1.5000e-04\n"
     ]
    }
   ],
   "source": [
    "#Training\n",
    "epochs=15\n",
    "face=model.fit(train_generator,epochs=epochs,validation_data=validation_genertor,validation_steps=total_validate/batch_size,steps_per_epoch=total_train/batch_size,callbacks=call_backs)"
   ]
  },
  {
   "cell_type": "code",
   "execution_count": 116,
   "metadata": {},
   "outputs": [],
   "source": [
    "#Saving the model\n",
    "model.save(\"Facial_Recognition.h5\")"
   ]
  },
  {
   "cell_type": "code",
   "execution_count": 118,
   "metadata": {},
   "outputs": [],
   "source": [
    "model=keras.models.load_model(\"Facial_Recognition.h5\")"
   ]
  },
  {
   "cell_type": "code",
   "execution_count": 121,
   "metadata": {},
   "outputs": [
    {
     "data": {
      "text/plain": [
       "{'Angry': 0, 'Fear': 1, 'Happy': 2, 'Neutral': 3, 'Sad': 4, 'Surprise': 5}"
      ]
     },
     "execution_count": 121,
     "metadata": {},
     "output_type": "execute_result"
    }
   ],
   "source": [
    "import numpy as np\n",
    "from keras.preprocessing import image\n",
    "test_image=image.load_img(\"Sad-306.jpg\",target_size=(48,48))\n",
    "test_image=image.img_to_array(test_image)\n",
    "test_image=np.expand_dims(test_image,axis=0)\n",
    "result=model.predict(test_image)\n",
    "train_generator.class_indices"
   ]
  },
  {
   "cell_type": "code",
   "execution_count": 123,
   "metadata": {},
   "outputs": [
    {
     "data": {
      "text/plain": [
       "array([[7.6822206e-02, 2.7521998e-09, 9.2317778e-01, 0.0000000e+00,\n",
       "        8.9900149e-35, 1.2285435e-15]], dtype=float32)"
      ]
     },
     "execution_count": 123,
     "metadata": {},
     "output_type": "execute_result"
    }
   ],
   "source": [
    "result"
   ]
  },
  {
   "cell_type": "code",
   "execution_count": 124,
   "metadata": {},
   "outputs": [
    {
     "name": "stdout",
     "output_type": "stream",
     "text": [
      "Epoch 1/11\n",
      "354/353 [==============================] - 743s 2s/step - loss: 0.8545 - accuracy: 0.6824 - val_loss: 0.9936 - val_accuracy: 0.6265 - lr: 1.5000e-04\n",
      "Epoch 2/11\n",
      "354/353 [==============================] - 748s 2s/step - loss: 0.8398 - accuracy: 0.6813 - val_loss: 1.0181 - val_accuracy: 0.6150 - lr: 1.5000e-04\n",
      "Epoch 3/11\n",
      "354/353 [==============================] - 747s 2s/step - loss: 0.8247 - accuracy: 0.6902 - val_loss: 0.9518 - val_accuracy: 0.6499 - lr: 1.5000e-04\n",
      "Epoch 4/11\n",
      "354/353 [==============================] - 746s 2s/step - loss: 0.8080 - accuracy: 0.6967 - val_loss: 1.0061 - val_accuracy: 0.6393 - lr: 1.5000e-04\n",
      "Epoch 5/11\n",
      "354/353 [==============================] - ETA: -1s - loss: 0.7989 - accuracy: 0.7006\n",
      "Epoch 00005: ReduceLROnPlateau reducing learning rate to 7.500000356230885e-05.\n",
      "354/353 [==============================] - 795s 2s/step - loss: 0.7989 - accuracy: 0.7006 - val_loss: 0.9945 - val_accuracy: 0.6371 - lr: 1.5000e-04\n",
      "Epoch 6/11\n",
      "354/353 [==============================] - 828s 2s/step - loss: 0.7505 - accuracy: 0.7211 - val_loss: 0.9550 - val_accuracy: 0.6591 - lr: 7.5000e-05\n",
      "Epoch 7/11\n",
      "354/353 [==============================] - 823s 2s/step - loss: 0.7345 - accuracy: 0.7256 - val_loss: 0.9494 - val_accuracy: 0.6584 - lr: 7.5000e-05\n",
      "Epoch 8/11\n",
      "354/353 [==============================] - 821s 2s/step - loss: 0.7078 - accuracy: 0.7368 - val_loss: 0.9318 - val_accuracy: 0.6645 - lr: 7.5000e-05\n",
      "Epoch 9/11\n",
      "354/353 [==============================] - 1200s 3s/step - loss: 0.6936 - accuracy: 0.7425 - val_loss: 0.9787 - val_accuracy: 0.6539 - lr: 7.5000e-05\n",
      "Epoch 10/11\n",
      "354/353 [==============================] - ETA: -1s - loss: 0.6842 - accuracy: 0.7451\n",
      "Epoch 00010: ReduceLROnPlateau reducing learning rate to 3.7500001781154424e-05.\n",
      "354/353 [==============================] - 1219s 3s/step - loss: 0.6842 - accuracy: 0.7451 - val_loss: 0.9555 - val_accuracy: 0.6630 - lr: 7.5000e-05\n",
      "Epoch 11/11\n",
      "354/353 [==============================] - 1217s 3s/step - loss: 0.6567 - accuracy: 0.7592 - val_loss: 0.9435 - val_accuracy: 0.6688 - lr: 3.7500e-05\n"
     ]
    }
   ],
   "source": [
    "epochs=11\n",
    "face=model.fit(train_generator,epochs=epochs,validation_data=validation_genertor,validation_steps=total_validate/batch_size,steps_per_epoch=total_train/batch_size,callbacks=call_backs)"
   ]
  },
  {
   "cell_type": "code",
   "execution_count": 1,
   "metadata": {},
   "outputs": [],
   "source": [
    "import keras\n",
    "model=keras.models.load_model(\"Facial_Recognition121.h5\")"
   ]
  },
  {
   "cell_type": "code",
   "execution_count": 2,
   "metadata": {},
   "outputs": [],
   "source": [
    "import numpy as np\n",
    "from keras.preprocessing import image\n",
    "test_image=image.load_img(\"Angry-30.jpg\",target_size=(48,48))\n",
    "test_image=image.img_to_array(test_image)\n",
    "test_image=np.expand_dims(test_image,axis=0)\n",
    "result=model.predict(test_image)\n",
    "#train_generator.class_indices"
   ]
  },
  {
   "cell_type": "code",
   "execution_count": 3,
   "metadata": {},
   "outputs": [
    {
     "data": {
      "text/plain": [
       "array([[1., 0., 0., 0., 0., 0.]], dtype=float32)"
      ]
     },
     "execution_count": 3,
     "metadata": {},
     "output_type": "execute_result"
    }
   ],
   "source": [
    "result"
   ]
  },
  {
   "cell_type": "code",
   "execution_count": 4,
   "metadata": {},
   "outputs": [
    {
     "name": "stdout",
     "output_type": "stream",
     "text": [
      "0\n"
     ]
    }
   ],
   "source": [
    "maxi=result[0][0]\n",
    "max_in=0\n",
    "for i in result[0]:\n",
    "    if i> maxi:\n",
    "        maxi=i\n",
    "        max_in=list(result[0]).index(i)\n",
    "print(max_in)"
   ]
  },
  {
   "cell_type": "code",
   "execution_count": 16,
   "metadata": {},
   "outputs": [],
   "source": [
    "#This function predict the facial expression and play music video according to it\n",
    "def image(image_path):\n",
    "    import keras\n",
    "    import webbrowser\n",
    "    import matplotlib.pyplot as plt\n",
    "    import time\n",
    "    model=keras.models.load_model(\"Facial_Recognition121.h5\")\n",
    "    import numpy as np\n",
    "    from keras.preprocessing import image\n",
    "    test_image=image.load_img(image_path,target_size=(48,48))\n",
    "    print(plt.imshow(test_image))\n",
    "    test_image=image.img_to_array(test_image)\n",
    "    test_image=np.expand_dims(test_image,axis=0)\n",
    "    result=model.predict(test_image)\n",
    "    maxi=result[0][0]\n",
    "    max_in=0\n",
    "    websites=[\"https://www.youtube.com/watch?v=BN45QQ7R92M\",\n",
    "              \"https://www.youtube.com/watch?v=AETFvQonfV8\",\n",
    "              \"https://www.youtube.com/watch?v=W_p-PYvE1IU\",\n",
    "              \"https://www.youtube.com/watch?v=uqa0BvYy03I\",\n",
    "              \"https://www.youtube.com/watch?v=61g5fMnZJ4A\",\n",
    "              \"https://www.youtube.com/results?search_query=suprise+hindi+songs\"]\n",
    "    feelings=[\"you look angry,you might like this song\",\"you seems afraid of something,let us listen to hanuman chalisa\",\n",
    "              \"I think you are happy, so let us celebrate\",\"What a good day,let us listen to a good old melody\",\n",
    "             \"You look sad,Do no worry i  have got something for you\",\"What a suprise.It is this for some song.Here pick one\"]\n",
    "    for i in result[0]:\n",
    "        if i> maxi:\n",
    "            maxi=i\n",
    "            max_in=list(result[0]).index(i)\n",
    "    print(feelings[max_in])\n",
    "    time.sleep(2.5)\n",
    "    webbrowser.open(websites[max_in])"
   ]
  },
  {
   "cell_type": "code",
   "execution_count": 19,
   "metadata": {},
   "outputs": [
    {
     "name": "stdout",
     "output_type": "stream",
     "text": [
      "Please Enter Your Photo\n",
      "IMG_20200813_123724.jpg\n",
      "AxesImage(54,36;334.8x217.44)\n",
      "you look angry,you might like this song\n"
     ]
    },
    {
     "data": {
      "image/png": "[encoded data removed]",
      "text/plain": [
       "<Figure size 432x288 with 1 Axes>"
      ]
     },
     "metadata": {
      "needs_background": "light"
     },
     "output_type": "display_data"
    }
   ],
   "source": [
    "print(\"Please Enter Your Photo\")\n",
    "str=input()\n",
    "image(str)"
   ]
  },
  {
   "cell_type": "code",
   "execution_count": 24,
   "metadata": {},
   "outputs": [
    {
     "name": "stdout",
     "output_type": "stream",
     "text": [
      "Please Enter Your Photo\n",
      "happy.jpg\n",
      "AxesImage(54,36;334.8x217.44)\n",
      "I think you are happy, so let us celebrate\n"
     ]
    },
    {
     "data": {
      "image/png": "[encoded data removed]",
      "text/plain": [
       "<Figure size 432x288 with 1 Axes>"
      ]
     },
     "metadata": {
      "needs_background": "light"
     },
     "output_type": "display_data"
    }
   ],
   "source": [
    "print(\"Please Enter Your Photo\")\n",
    "str=input()\n",
    "image(str)"
   ]
  },
  {
   "cell_type": "code",
   "execution_count": 26,
   "metadata": {},
   "outputs": [
    {
     "name": "stdout",
     "output_type": "stream",
     "text": [
      "Please Enter Your Photo\n",
      "surprisejpg.jpg\n",
      "AxesImage(54,36;334.8x217.44)\n",
      "you look angry,you might like this song\n"
     ]
    },
    {
     "data": {
      "image/png": "[encoded data removed]",
      "text/plain": [
       "<Figure size 432x288 with 1 Axes>"
      ]
     },
     "metadata": {
      "needs_background": "light"
     },
     "output_type": "display_data"
    }
   ],
   "source": [
    "print(\"Please Enter Your Photo\")\n",
    "str=input()\n",
    "image(str)"
   ]
  },
  {
   "cell_type": "markdown",
   "metadata": {},
   "source": [
    "In this note book I have not used the concept of transfer learning.Accuracy of the model can further be improve by using models like mtcnn or vgg-16."
   ]
  }
 ],
 "metadata": {
  "kernelspec": {
   "display_name": "Python 3",
   "language": "python",
   "name": "python3"
  },
  "language_info": {
   "codemirror_mode": {
    "name": "ipython",
    "version": 3
   },
   "file_extension": ".py",
   "mimetype": "text/x-python",
   "name": "python",
   "nbconvert_exporter": "python",
   "pygments_lexer": "ipython3",
   "version": "3.7.6"
  }
 },
 "nbformat": 4,
 "nbformat_minor": 4
}
