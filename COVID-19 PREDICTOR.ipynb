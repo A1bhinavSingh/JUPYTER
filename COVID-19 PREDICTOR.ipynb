{
 "cells": [
  {
   "cell_type": "code",
   "execution_count": null,
   "metadata": {},
   "outputs": [],
   "source": [
    "#Importing Libraries"
   ]
  },
  {
   "cell_type": "code",
   "execution_count": 10,
   "metadata": {},
   "outputs": [],
   "source": [
    "import numpy as np\n",
    "import pandas as pd\n",
    "from keras.preprocessing.image import ImageDataGenerator,load_img\n",
    "from keras.utils import to_categorical\n",
    "from sklearn.model_selection import train_test_split\n",
    "import matplotlib.pyplot as plt\n",
    "import random\n",
    "import os"
   ]
  },
  {
   "cell_type": "code",
   "execution_count": 11,
   "metadata": {},
   "outputs": [],
   "source": [
    "#Image Properties\n",
    "Image_Width=128\n",
    "Image_Height=128\n",
    "Image_Channel=3\n",
    "Image_Size=(Image_Width,Image_Height)"
   ]
  },
  {
   "cell_type": "code",
   "execution_count": 12,
   "metadata": {},
   "outputs": [],
   "source": [
    "#Preparing dataset\n",
    "#(The code in this cell is inspired from a blog by DATAFLAIR TEAM)\n",
    "filenames=os.listdir(\"./Data/train\")\n",
    "categories=[]\n",
    "for f_name in filenames:\n",
    "    category=f_name[0]\n",
    "    if category== \"P\":\n",
    "        categories.append(2)\n",
    "    elif category==\"N\":\n",
    "        categories.append(0)\n",
    "    else:\n",
    "        categories.append(1)\n"
   ]
  },
  {
   "cell_type": "code",
   "execution_count": 13,
   "metadata": {},
   "outputs": [],
   "source": [
    "df=pd.DataFrame({\"filenames\":filenames,\"category\":categories})"
   ]
  },
  {
   "cell_type": "code",
   "execution_count": 14,
   "metadata": {},
   "outputs": [
    {
     "data": {
      "text/html": [
       "<div>\n",
       "<style scoped>\n",
       "    .dataframe tbody tr th:only-of-type {\n",
       "        vertical-align: middle;\n",
       "    }\n",
       "\n",
       "    .dataframe tbody tr th {\n",
       "        vertical-align: top;\n",
       "    }\n",
       "\n",
       "    .dataframe thead th {\n",
       "        text-align: right;\n",
       "    }\n",
       "</style>\n",
       "<table border=\"1\" class=\"dataframe\">\n",
       "  <thead>\n",
       "    <tr style=\"text-align: right;\">\n",
       "      <th></th>\n",
       "      <th>filenames</th>\n",
       "      <th>category</th>\n",
       "    </tr>\n",
       "  </thead>\n",
       "  <tbody>\n",
       "    <tr>\n",
       "      <th>0</th>\n",
       "      <td>COVID-19 (10).png</td>\n",
       "      <td>1</td>\n",
       "    </tr>\n",
       "    <tr>\n",
       "      <th>1</th>\n",
       "      <td>COVID-19 (100).png</td>\n",
       "      <td>1</td>\n",
       "    </tr>\n",
       "    <tr>\n",
       "      <th>2</th>\n",
       "      <td>COVID-19 (101).png</td>\n",
       "      <td>1</td>\n",
       "    </tr>\n",
       "    <tr>\n",
       "      <th>3</th>\n",
       "      <td>COVID-19 (102).png</td>\n",
       "      <td>1</td>\n",
       "    </tr>\n",
       "    <tr>\n",
       "      <th>4</th>\n",
       "      <td>COVID-19 (103).png</td>\n",
       "      <td>1</td>\n",
       "    </tr>\n",
       "    <tr>\n",
       "      <th>...</th>\n",
       "      <td>...</td>\n",
       "      <td>...</td>\n",
       "    </tr>\n",
       "    <tr>\n",
       "      <th>5357</th>\n",
       "      <td>PNEUMONIA(992).jpg</td>\n",
       "      <td>2</td>\n",
       "    </tr>\n",
       "    <tr>\n",
       "      <th>5358</th>\n",
       "      <td>PNEUMONIA(993).jpg</td>\n",
       "      <td>2</td>\n",
       "    </tr>\n",
       "    <tr>\n",
       "      <th>5359</th>\n",
       "      <td>PNEUMONIA(994).jpg</td>\n",
       "      <td>2</td>\n",
       "    </tr>\n",
       "    <tr>\n",
       "      <th>5360</th>\n",
       "      <td>PNEUMONIA(997).jpg</td>\n",
       "      <td>2</td>\n",
       "    </tr>\n",
       "    <tr>\n",
       "      <th>5361</th>\n",
       "      <td>PNEUMONIA(998).jpg</td>\n",
       "      <td>2</td>\n",
       "    </tr>\n",
       "  </tbody>\n",
       "</table>\n",
       "<p>5362 rows × 2 columns</p>\n",
       "</div>"
      ],
      "text/plain": [
       "               filenames  category\n",
       "0      COVID-19 (10).png         1\n",
       "1     COVID-19 (100).png         1\n",
       "2     COVID-19 (101).png         1\n",
       "3     COVID-19 (102).png         1\n",
       "4     COVID-19 (103).png         1\n",
       "...                  ...       ...\n",
       "5357  PNEUMONIA(992).jpg         2\n",
       "5358  PNEUMONIA(993).jpg         2\n",
       "5359  PNEUMONIA(994).jpg         2\n",
       "5360  PNEUMONIA(997).jpg         2\n",
       "5361  PNEUMONIA(998).jpg         2\n",
       "\n",
       "[5362 rows x 2 columns]"
      ]
     },
     "execution_count": 14,
     "metadata": {},
     "output_type": "execute_result"
    }
   ],
   "source": [
    "df"
   ]
  },
  {
   "cell_type": "code",
   "execution_count": 15,
   "metadata": {},
   "outputs": [
    {
     "data": {
      "text/html": [
       "<div>\n",
       "<style scoped>\n",
       "    .dataframe tbody tr th:only-of-type {\n",
       "        vertical-align: middle;\n",
       "    }\n",
       "\n",
       "    .dataframe tbody tr th {\n",
       "        vertical-align: top;\n",
       "    }\n",
       "\n",
       "    .dataframe thead th {\n",
       "        text-align: right;\n",
       "    }\n",
       "</style>\n",
       "<table border=\"1\" class=\"dataframe\">\n",
       "  <thead>\n",
       "    <tr style=\"text-align: right;\">\n",
       "      <th></th>\n",
       "      <th>filenames</th>\n",
       "      <th>category</th>\n",
       "    </tr>\n",
       "  </thead>\n",
       "  <tbody>\n",
       "    <tr>\n",
       "      <th>0</th>\n",
       "      <td>NORMAL(1050).jpg</td>\n",
       "      <td>0</td>\n",
       "    </tr>\n",
       "    <tr>\n",
       "      <th>1</th>\n",
       "      <td>PNEUMONIA(464).jpg</td>\n",
       "      <td>2</td>\n",
       "    </tr>\n",
       "    <tr>\n",
       "      <th>2</th>\n",
       "      <td>PNEUMONIA(1857).jpg</td>\n",
       "      <td>2</td>\n",
       "    </tr>\n",
       "    <tr>\n",
       "      <th>3</th>\n",
       "      <td>NORMAL(1027).jpg</td>\n",
       "      <td>0</td>\n",
       "    </tr>\n",
       "    <tr>\n",
       "      <th>4</th>\n",
       "      <td>PNEUMONIA(1724).jpg</td>\n",
       "      <td>2</td>\n",
       "    </tr>\n",
       "    <tr>\n",
       "      <th>...</th>\n",
       "      <td>...</td>\n",
       "      <td>...</td>\n",
       "    </tr>\n",
       "    <tr>\n",
       "      <th>5357</th>\n",
       "      <td>PNEUMONIA(2114).jpg</td>\n",
       "      <td>2</td>\n",
       "    </tr>\n",
       "    <tr>\n",
       "      <th>5358</th>\n",
       "      <td>NORMAL(955).jpg</td>\n",
       "      <td>0</td>\n",
       "    </tr>\n",
       "    <tr>\n",
       "      <th>5359</th>\n",
       "      <td>PNEUMONIA(3170).jpg</td>\n",
       "      <td>2</td>\n",
       "    </tr>\n",
       "    <tr>\n",
       "      <th>5360</th>\n",
       "      <td>PNEUMONIA(3914).jpg</td>\n",
       "      <td>2</td>\n",
       "    </tr>\n",
       "    <tr>\n",
       "      <th>5361</th>\n",
       "      <td>PNEUMONIA(3401).jpg</td>\n",
       "      <td>2</td>\n",
       "    </tr>\n",
       "  </tbody>\n",
       "</table>\n",
       "<p>5362 rows × 2 columns</p>\n",
       "</div>"
      ],
      "text/plain": [
       "                filenames  category\n",
       "0        NORMAL(1050).jpg         0\n",
       "1      PNEUMONIA(464).jpg         2\n",
       "2     PNEUMONIA(1857).jpg         2\n",
       "3        NORMAL(1027).jpg         0\n",
       "4     PNEUMONIA(1724).jpg         2\n",
       "...                   ...       ...\n",
       "5357  PNEUMONIA(2114).jpg         2\n",
       "5358      NORMAL(955).jpg         0\n",
       "5359  PNEUMONIA(3170).jpg         2\n",
       "5360  PNEUMONIA(3914).jpg         2\n",
       "5361  PNEUMONIA(3401).jpg         2\n",
       "\n",
       "[5362 rows x 2 columns]"
      ]
     },
     "execution_count": 15,
     "metadata": {},
     "output_type": "execute_result"
    }
   ],
   "source": [
    "df=df.sample(frac=1).reset_index(drop=True)\n",
    "df"
   ]
  },
  {
   "cell_type": "code",
   "execution_count": 16,
   "metadata": {},
   "outputs": [
    {
     "data": {
      "text/html": [
       "<div>\n",
       "<style scoped>\n",
       "    .dataframe tbody tr th:only-of-type {\n",
       "        vertical-align: middle;\n",
       "    }\n",
       "\n",
       "    .dataframe tbody tr th {\n",
       "        vertical-align: top;\n",
       "    }\n",
       "\n",
       "    .dataframe thead th {\n",
       "        text-align: right;\n",
       "    }\n",
       "</style>\n",
       "<table border=\"1\" class=\"dataframe\">\n",
       "  <thead>\n",
       "    <tr style=\"text-align: right;\">\n",
       "      <th></th>\n",
       "      <th>filenames</th>\n",
       "      <th>category</th>\n",
       "    </tr>\n",
       "  </thead>\n",
       "  <tbody>\n",
       "    <tr>\n",
       "      <th>0</th>\n",
       "      <td>NORMAL(1050).jpg</td>\n",
       "      <td>Normal</td>\n",
       "    </tr>\n",
       "    <tr>\n",
       "      <th>1</th>\n",
       "      <td>PNEUMONIA(464).jpg</td>\n",
       "      <td>Pneumonia</td>\n",
       "    </tr>\n",
       "    <tr>\n",
       "      <th>2</th>\n",
       "      <td>PNEUMONIA(1857).jpg</td>\n",
       "      <td>Pneumonia</td>\n",
       "    </tr>\n",
       "    <tr>\n",
       "      <th>3</th>\n",
       "      <td>NORMAL(1027).jpg</td>\n",
       "      <td>Normal</td>\n",
       "    </tr>\n",
       "    <tr>\n",
       "      <th>4</th>\n",
       "      <td>PNEUMONIA(1724).jpg</td>\n",
       "      <td>Pneumonia</td>\n",
       "    </tr>\n",
       "    <tr>\n",
       "      <th>...</th>\n",
       "      <td>...</td>\n",
       "      <td>...</td>\n",
       "    </tr>\n",
       "    <tr>\n",
       "      <th>5357</th>\n",
       "      <td>PNEUMONIA(2114).jpg</td>\n",
       "      <td>Pneumonia</td>\n",
       "    </tr>\n",
       "    <tr>\n",
       "      <th>5358</th>\n",
       "      <td>NORMAL(955).jpg</td>\n",
       "      <td>Normal</td>\n",
       "    </tr>\n",
       "    <tr>\n",
       "      <th>5359</th>\n",
       "      <td>PNEUMONIA(3170).jpg</td>\n",
       "      <td>Pneumonia</td>\n",
       "    </tr>\n",
       "    <tr>\n",
       "      <th>5360</th>\n",
       "      <td>PNEUMONIA(3914).jpg</td>\n",
       "      <td>Pneumonia</td>\n",
       "    </tr>\n",
       "    <tr>\n",
       "      <th>5361</th>\n",
       "      <td>PNEUMONIA(3401).jpg</td>\n",
       "      <td>Pneumonia</td>\n",
       "    </tr>\n",
       "  </tbody>\n",
       "</table>\n",
       "<p>5362 rows × 2 columns</p>\n",
       "</div>"
      ],
      "text/plain": [
       "                filenames   category\n",
       "0        NORMAL(1050).jpg     Normal\n",
       "1      PNEUMONIA(464).jpg  Pneumonia\n",
       "2     PNEUMONIA(1857).jpg  Pneumonia\n",
       "3        NORMAL(1027).jpg     Normal\n",
       "4     PNEUMONIA(1724).jpg  Pneumonia\n",
       "...                   ...        ...\n",
       "5357  PNEUMONIA(2114).jpg  Pneumonia\n",
       "5358      NORMAL(955).jpg     Normal\n",
       "5359  PNEUMONIA(3170).jpg  Pneumonia\n",
       "5360  PNEUMONIA(3914).jpg  Pneumonia\n",
       "5361  PNEUMONIA(3401).jpg  Pneumonia\n",
       "\n",
       "[5362 rows x 2 columns]"
      ]
     },
     "execution_count": 16,
     "metadata": {},
     "output_type": "execute_result"
    }
   ],
   "source": [
    "df[\"category\"]=df[\"category\"].replace({0:\"Normal\",1:\"Corona_Positive\",2:\"Pneumonia\"})\n",
    "df"
   ]
  },
  {
   "cell_type": "code",
   "execution_count": 17,
   "metadata": {},
   "outputs": [],
   "source": [
    "train_df,validate_df=train_test_split(df,test_size=0.20,random_state=42)\n",
    "train_df=train_df.reset_index(drop=True)\n",
    "validate_df=validate_df.reset_index(drop=True)"
   ]
  },
  {
   "cell_type": "code",
   "execution_count": 18,
   "metadata": {},
   "outputs": [
    {
     "data": {
      "text/html": [
       "<div>\n",
       "<style scoped>\n",
       "    .dataframe tbody tr th:only-of-type {\n",
       "        vertical-align: middle;\n",
       "    }\n",
       "\n",
       "    .dataframe tbody tr th {\n",
       "        vertical-align: top;\n",
       "    }\n",
       "\n",
       "    .dataframe thead th {\n",
       "        text-align: right;\n",
       "    }\n",
       "</style>\n",
       "<table border=\"1\" class=\"dataframe\">\n",
       "  <thead>\n",
       "    <tr style=\"text-align: right;\">\n",
       "      <th></th>\n",
       "      <th>filenames</th>\n",
       "      <th>category</th>\n",
       "    </tr>\n",
       "  </thead>\n",
       "  <tbody>\n",
       "    <tr>\n",
       "      <th>0</th>\n",
       "      <td>NORMAL(915).jpg</td>\n",
       "      <td>Normal</td>\n",
       "    </tr>\n",
       "    <tr>\n",
       "      <th>1</th>\n",
       "      <td>PNEUMONIA(3675).jpg</td>\n",
       "      <td>Pneumonia</td>\n",
       "    </tr>\n",
       "    <tr>\n",
       "      <th>2</th>\n",
       "      <td>PNEUMONIA(3620).jpg</td>\n",
       "      <td>Pneumonia</td>\n",
       "    </tr>\n",
       "    <tr>\n",
       "      <th>3</th>\n",
       "      <td>NORMAL(170).jpg</td>\n",
       "      <td>Normal</td>\n",
       "    </tr>\n",
       "    <tr>\n",
       "      <th>4</th>\n",
       "      <td>NORMAL(523).jpg</td>\n",
       "      <td>Normal</td>\n",
       "    </tr>\n",
       "    <tr>\n",
       "      <th>...</th>\n",
       "      <td>...</td>\n",
       "      <td>...</td>\n",
       "    </tr>\n",
       "    <tr>\n",
       "      <th>4284</th>\n",
       "      <td>PNEUMONIA(3762).jpg</td>\n",
       "      <td>Pneumonia</td>\n",
       "    </tr>\n",
       "    <tr>\n",
       "      <th>4285</th>\n",
       "      <td>NORMAL(904).jpg</td>\n",
       "      <td>Normal</td>\n",
       "    </tr>\n",
       "    <tr>\n",
       "      <th>4286</th>\n",
       "      <td>PNEUMONIA(1867).jpg</td>\n",
       "      <td>Pneumonia</td>\n",
       "    </tr>\n",
       "    <tr>\n",
       "      <th>4287</th>\n",
       "      <td>NORMAL(1436).jpg</td>\n",
       "      <td>Normal</td>\n",
       "    </tr>\n",
       "    <tr>\n",
       "      <th>4288</th>\n",
       "      <td>PNEUMONIA(2346).jpg</td>\n",
       "      <td>Pneumonia</td>\n",
       "    </tr>\n",
       "  </tbody>\n",
       "</table>\n",
       "<p>4289 rows × 2 columns</p>\n",
       "</div>"
      ],
      "text/plain": [
       "                filenames   category\n",
       "0         NORMAL(915).jpg     Normal\n",
       "1     PNEUMONIA(3675).jpg  Pneumonia\n",
       "2     PNEUMONIA(3620).jpg  Pneumonia\n",
       "3         NORMAL(170).jpg     Normal\n",
       "4         NORMAL(523).jpg     Normal\n",
       "...                   ...        ...\n",
       "4284  PNEUMONIA(3762).jpg  Pneumonia\n",
       "4285      NORMAL(904).jpg     Normal\n",
       "4286  PNEUMONIA(1867).jpg  Pneumonia\n",
       "4287     NORMAL(1436).jpg     Normal\n",
       "4288  PNEUMONIA(2346).jpg  Pneumonia\n",
       "\n",
       "[4289 rows x 2 columns]"
      ]
     },
     "execution_count": 18,
     "metadata": {},
     "output_type": "execute_result"
    }
   ],
   "source": [
    "train_df"
   ]
  },
  {
   "cell_type": "code",
   "execution_count": 19,
   "metadata": {},
   "outputs": [
    {
     "data": {
      "text/html": [
       "<div>\n",
       "<style scoped>\n",
       "    .dataframe tbody tr th:only-of-type {\n",
       "        vertical-align: middle;\n",
       "    }\n",
       "\n",
       "    .dataframe tbody tr th {\n",
       "        vertical-align: top;\n",
       "    }\n",
       "\n",
       "    .dataframe thead th {\n",
       "        text-align: right;\n",
       "    }\n",
       "</style>\n",
       "<table border=\"1\" class=\"dataframe\">\n",
       "  <thead>\n",
       "    <tr style=\"text-align: right;\">\n",
       "      <th></th>\n",
       "      <th>filenames</th>\n",
       "      <th>category</th>\n",
       "    </tr>\n",
       "  </thead>\n",
       "  <tbody>\n",
       "    <tr>\n",
       "      <th>0</th>\n",
       "      <td>PNEUMONIA(222).jpg</td>\n",
       "      <td>Pneumonia</td>\n",
       "    </tr>\n",
       "    <tr>\n",
       "      <th>1</th>\n",
       "      <td>PNEUMONIA(3036).jpg</td>\n",
       "      <td>Pneumonia</td>\n",
       "    </tr>\n",
       "    <tr>\n",
       "      <th>2</th>\n",
       "      <td>PNEUMONIA(3426).jpg</td>\n",
       "      <td>Pneumonia</td>\n",
       "    </tr>\n",
       "    <tr>\n",
       "      <th>3</th>\n",
       "      <td>PNEUMONIA(2345).jpg</td>\n",
       "      <td>Pneumonia</td>\n",
       "    </tr>\n",
       "    <tr>\n",
       "      <th>4</th>\n",
       "      <td>NORMAL(1259).jpg</td>\n",
       "      <td>Normal</td>\n",
       "    </tr>\n",
       "    <tr>\n",
       "      <th>...</th>\n",
       "      <td>...</td>\n",
       "      <td>...</td>\n",
       "    </tr>\n",
       "    <tr>\n",
       "      <th>1068</th>\n",
       "      <td>PNEUMONIA(3294).jpg</td>\n",
       "      <td>Pneumonia</td>\n",
       "    </tr>\n",
       "    <tr>\n",
       "      <th>1069</th>\n",
       "      <td>NORMAL(1406).jpg</td>\n",
       "      <td>Normal</td>\n",
       "    </tr>\n",
       "    <tr>\n",
       "      <th>1070</th>\n",
       "      <td>PNEUMONIA(928).jpg</td>\n",
       "      <td>Pneumonia</td>\n",
       "    </tr>\n",
       "    <tr>\n",
       "      <th>1071</th>\n",
       "      <td>PNEUMONIA(1600).jpg</td>\n",
       "      <td>Pneumonia</td>\n",
       "    </tr>\n",
       "    <tr>\n",
       "      <th>1072</th>\n",
       "      <td>COVID19(544).jpg</td>\n",
       "      <td>Corona_Positive</td>\n",
       "    </tr>\n",
       "  </tbody>\n",
       "</table>\n",
       "<p>1073 rows × 2 columns</p>\n",
       "</div>"
      ],
      "text/plain": [
       "                filenames         category\n",
       "0      PNEUMONIA(222).jpg        Pneumonia\n",
       "1     PNEUMONIA(3036).jpg        Pneumonia\n",
       "2     PNEUMONIA(3426).jpg        Pneumonia\n",
       "3     PNEUMONIA(2345).jpg        Pneumonia\n",
       "4        NORMAL(1259).jpg           Normal\n",
       "...                   ...              ...\n",
       "1068  PNEUMONIA(3294).jpg        Pneumonia\n",
       "1069     NORMAL(1406).jpg           Normal\n",
       "1070   PNEUMONIA(928).jpg        Pneumonia\n",
       "1071  PNEUMONIA(1600).jpg        Pneumonia\n",
       "1072     COVID19(544).jpg  Corona_Positive\n",
       "\n",
       "[1073 rows x 2 columns]"
      ]
     },
     "execution_count": 19,
     "metadata": {},
     "output_type": "execute_result"
    }
   ],
   "source": [
    "validate_df"
   ]
  },
  {
   "cell_type": "code",
   "execution_count": 20,
   "metadata": {},
   "outputs": [],
   "source": [
    "total_train=train_df.shape[0]\n",
    "total_validate=validate_df.shape[0]\n",
    "batch_size=20"
   ]
  },
  {
   "cell_type": "code",
   "execution_count": 21,
   "metadata": {},
   "outputs": [
    {
     "data": {
      "text/plain": [
       "(4289, 1073)"
      ]
     },
     "execution_count": 21,
     "metadata": {},
     "output_type": "execute_result"
    }
   ],
   "source": [
    "total_train,total_validate"
   ]
  },
  {
   "cell_type": "code",
   "execution_count": 22,
   "metadata": {},
   "outputs": [
    {
     "name": "stdout",
     "output_type": "stream",
     "text": [
      "Found 4289 validated image filenames belonging to 3 classes.\n"
     ]
    }
   ],
   "source": [
    "train_datagen=ImageDataGenerator(rotation_range=15,rescale=1./255,shear_range=0.1,zoom_range=0.2,horizontal_flip=True,width_shift_range=0.1,height_shift_range=0.1)\n",
    "train_generator=train_datagen.flow_from_dataframe(train_df,\"./Data/train\",x_col=\"filenames\",y_col=\"category\",target_size=Image_Size,class_mode=\"categorical\",batch_size=batch_size)"
   ]
  },
  {
   "cell_type": "code",
   "execution_count": 23,
   "metadata": {},
   "outputs": [
    {
     "name": "stdout",
     "output_type": "stream",
     "text": [
      "Found 1073 validated image filenames belonging to 3 classes.\n"
     ]
    }
   ],
   "source": [
    "validation_datagen=ImageDataGenerator(rescale=1./255)\n",
    "validation_genertor=validation_datagen.flow_from_dataframe(validate_df,\"./Data/train\",x_col=\"filenames\",y_col=\"category\",target_size=Image_Size,class_mode=\"categorical\",batch_size=batch_size)"
   ]
  },
  {
   "cell_type": "code",
   "execution_count": 15,
   "metadata": {},
   "outputs": [],
   "source": [
    "#Creating neural model\n",
    "import tensorflow as tf\n",
    "import keras\n",
    "from keras.layers import Conv2D,MaxPooling2D,Dropout,Flatten,Dense,Activation,BatchNormalization\n",
    "model=tf.keras.models.Sequential()\n",
    "#First Layer\n",
    "model.add(Conv2D(32,(3,3),input_shape=[128,128,3],activation=\"relu\",padding=\"same\"))\n",
    "model.add(BatchNormalization())\n",
    "model.add(Conv2D(32,(3,3),activation=\"relu\",padding=\"same\"))\n",
    "model.add(BatchNormalization())\n",
    "model.add(MaxPooling2D(pool_size=(2,2),strides=2))\n",
    "model.add(Dropout(0.25))\n",
    "#Second Layer\n",
    "model.add(Conv2D(64,(3,3),activation=\"relu\",padding=\"same\"))\n",
    "model.add(BatchNormalization())\n",
    "model.add(Conv2D(64,(3,3),activation=\"relu\",padding=\"same\"))\n",
    "model.add(BatchNormalization())\n",
    "model.add(MaxPooling2D(pool_size=(2,2),strides=2))\n",
    "model.add(Dropout(0.25))\n",
    "#Third Layer\n",
    "model.add(Conv2D(128,(3,3),activation=\"relu\",padding=\"same\"))\n",
    "model.add(BatchNormalization())\n",
    "model.add(Conv2D(128,(3,3),activation=\"relu\",padding=\"same\"))\n",
    "model.add(BatchNormalization())\n",
    "model.add(MaxPooling2D(pool_size=(2,2),strides=2))\n",
    "model.add(Dropout(0.25))\n",
    "#Final Layer\n",
    "model.add(Flatten())\n",
    "model.add(Dense(512,activation=\"relu\"))\n",
    "model.add(BatchNormalization())\n",
    "model.add(Dropout(0.5))\n",
    "model.add(Dense(3,activation=\"softmax\"))\n"
   ]
  },
  {
   "cell_type": "code",
   "execution_count": 39,
   "metadata": {},
   "outputs": [],
   "source": [
    "model.compile(loss=\"categorical_crossentropy\",optimizer=tf.keras.optimizers.SGD(momentum=0.9),metrics=[\"accuracy\"])"
   ]
  },
  {
   "cell_type": "code",
   "execution_count": 40,
   "metadata": {},
   "outputs": [],
   "source": [
    "#Call backs\n",
    "from keras.callbacks import EarlyStopping,ReduceLROnPlateau\n",
    "earlystop=EarlyStopping(patience=10)\n",
    "learning_rate_reduction=ReduceLROnPlateau(monitor=\"val_accuracy\",patience=2,verbose=1,factor=0.5,min_lr=0.00001)\n",
    "call_backs=[earlystop,learning_rate_reduction]"
   ]
  },
  {
   "cell_type": "code",
   "execution_count": 53,
   "metadata": {},
   "outputs": [
    {
     "name": "stdout",
     "output_type": "stream",
     "text": [
      "Epoch 1/20\n",
      "215/214 [==============================] - 342s 2s/step - loss: 0.2447 - accuracy: 0.9179 - val_loss: 0.3369 - val_accuracy: 0.8695 - lr: 0.0012\n",
      "Epoch 2/20\n",
      "215/214 [==============================] - 341s 2s/step - loss: 0.2263 - accuracy: 0.9224 - val_loss: 0.6584 - val_accuracy: 0.7801 - lr: 0.0012\n",
      "Epoch 3/20\n",
      "215/214 [==============================] - 340s 2s/step - loss: 0.2143 - accuracy: 0.9280 - val_loss: 0.1970 - val_accuracy: 0.9329 - lr: 0.0012\n",
      "Epoch 4/20\n",
      "215/214 [==============================] - 358s 2s/step - loss: 0.2192 - accuracy: 0.9242 - val_loss: 0.2344 - val_accuracy: 0.9282 - lr: 0.0012\n",
      "Epoch 5/20\n",
      "215/214 [==============================] - ETA: -1s - loss: 0.2003 - accuracy: 0.9280\n",
      "Epoch 00005: ReduceLROnPlateau reducing learning rate to 0.0006249999860301614.\n",
      "215/214 [==============================] - 560s 3s/step - loss: 0.2003 - accuracy: 0.9280 - val_loss: 1.7308 - val_accuracy: 0.5098 - lr: 0.0012\n",
      "Epoch 6/20\n",
      "215/214 [==============================] - 1127s 5s/step - loss: 0.2115 - accuracy: 0.9231 - val_loss: 0.1921 - val_accuracy: 0.9376 - lr: 6.2500e-04\n",
      "Epoch 7/20\n",
      "215/214 [==============================] - 830s 4s/step - loss: 0.1971 - accuracy: 0.9282 - val_loss: 0.3832 - val_accuracy: 0.8593 - lr: 6.2500e-04\n",
      "Epoch 8/20\n",
      "215/214 [==============================] - ETA: -4s - loss: 0.1919 - accuracy: 0.9326\n",
      "Epoch 00008: ReduceLROnPlateau reducing learning rate to 0.0003124999930150807.\n",
      "215/214 [==============================] - 1766s 8s/step - loss: 0.1919 - accuracy: 0.9326 - val_loss: 0.4010 - val_accuracy: 0.8770 - lr: 6.2500e-04\n",
      "Epoch 9/20\n",
      "215/214 [==============================] - 572s 3s/step - loss: 0.1958 - accuracy: 0.9249 - val_loss: 0.2681 - val_accuracy: 0.8956 - lr: 3.1250e-04\n",
      "Epoch 10/20\n",
      "215/214 [==============================] - ETA: -1s - loss: 0.2049 - accuracy: 0.9289\n",
      "Epoch 00010: ReduceLROnPlateau reducing learning rate to 0.00015624999650754035.\n",
      "215/214 [==============================] - 587s 3s/step - loss: 0.2049 - accuracy: 0.9289 - val_loss: 0.2711 - val_accuracy: 0.8956 - lr: 3.1250e-04\n",
      "Epoch 11/20\n",
      "215/214 [==============================] - 556s 3s/step - loss: 0.1942 - accuracy: 0.9310 - val_loss: 0.2481 - val_accuracy: 0.9059 - lr: 1.5625e-04\n",
      "Epoch 12/20\n",
      "215/214 [==============================] - ETA: -1s - loss: 0.2033 - accuracy: 0.9296\n",
      "Epoch 00012: ReduceLROnPlateau reducing learning rate to 7.812499825377017e-05.\n",
      "215/214 [==============================] - 555s 3s/step - loss: 0.2033 - accuracy: 0.9296 - val_loss: 0.2362 - val_accuracy: 0.9133 - lr: 1.5625e-04\n",
      "Epoch 13/20\n",
      "215/214 [==============================] - 555s 3s/step - loss: 0.1954 - accuracy: 0.9326 - val_loss: 0.2314 - val_accuracy: 0.9124 - lr: 7.8125e-05\n",
      "Epoch 14/20\n",
      "215/214 [==============================] - ETA: -1s - loss: 0.1794 - accuracy: 0.9363\n",
      "Epoch 00014: ReduceLROnPlateau reducing learning rate to 3.9062499126885086e-05.\n",
      "215/214 [==============================] - 556s 3s/step - loss: 0.1794 - accuracy: 0.9363 - val_loss: 0.2273 - val_accuracy: 0.9143 - lr: 7.8125e-05\n",
      "Epoch 15/20\n",
      "215/214 [==============================] - 557s 3s/step - loss: 0.1854 - accuracy: 0.9387 - val_loss: 0.2262 - val_accuracy: 0.9171 - lr: 3.9062e-05\n",
      "Epoch 16/20\n",
      "215/214 [==============================] - ETA: -1s - loss: 0.1856 - accuracy: 0.9296\n",
      "Epoch 00016: ReduceLROnPlateau reducing learning rate to 1.9531249563442543e-05.\n",
      "215/214 [==============================] - 558s 3s/step - loss: 0.1856 - accuracy: 0.9296 - val_loss: 0.2347 - val_accuracy: 0.9133 - lr: 3.9062e-05\n"
     ]
    }
   ],
   "source": [
    "#Training\n",
    "epochs=20\n",
    "history=model.fit_generator(train_generator,epochs=epochs,validation_data=validation_genertor,validation_steps=total_validate/batch_size,steps_per_epoch=total_train/batch_size,callbacks=call_backs)"
   ]
  },
  {
   "cell_type": "code",
   "execution_count": 54,
   "metadata": {},
   "outputs": [],
   "source": [
    "#Saving the model\n",
    "model.save(\"Covid-19_Predictor.h5\")"
   ]
  },
  {
   "cell_type": "code",
   "execution_count": 69,
   "metadata": {},
   "outputs": [
    {
     "data": {
      "text/plain": [
       "<matplotlib.legend.Legend at 0x25e8a34f408>"
      ]
     },
     "execution_count": 69,
     "metadata": {},
     "output_type": "execute_result"
    },
    {
     "data": {
      "image/png": "[encoded data removed]",
      "text/plain": [
       "<Figure size 432x288 with 1 Axes>"
      ]
     },
     "metadata": {},
     "output_type": "display_data"
    }
   ],
   "source": [
    "# plotting the training loss and accuracy\n",
    "epoch = 16\n",
    "plt.plot(np.arange(0, epoch), history.history[\"loss\"], label=\"train_loss\")\n",
    "plt.plot(np.arange(0, epoch), history.history[\"val_loss\"], label=\"val_loss\")\n",
    "plt.plot(np.arange(0, epoch), history.history[\"accuracy\"], label=\"train_acc\")\n",
    "plt.plot(np.arange(0, epoch), history.history[\"val_accuracy\"], label=\"val_acc\")\n",
    "plt.title(\"Training Loss and Accuracy on COVID-19 Dataset\")\n",
    "plt.xlabel(\"Epoch\")\n",
    "plt.ylabel(\"Loss/Accuracy\")\n",
    "plt.legend(loc=\"upper right\")"
   ]
  },
  {
   "cell_type": "code",
   "execution_count": 37,
   "metadata": {},
   "outputs": [],
   "source": [
    "import tensorflow as tf\n",
    "import keras\n",
    "covid1=tf.keras.models.load_model(\"Covid-19_Predictor.h5\")"
   ]
  },
  {
   "cell_type": "code",
   "execution_count": 57,
   "metadata": {},
   "outputs": [
    {
     "data": {
      "text/plain": [
       "{'Corona_Positive': 0, 'Normal': 1, 'Pneumonia': 2}"
      ]
     },
     "execution_count": 57,
     "metadata": {},
     "output_type": "execute_result"
    },
    {
     "data": {
      "image/png": "[encoded data removed]",
      "text/plain": [
       "<Figure size 432x288 with 1 Axes>"
      ]
     },
     "metadata": {
      "needs_background": "light"
     },
     "output_type": "display_data"
    }
   ],
   "source": [
    "import numpy as np\n",
    "from keras.preprocessing import image\n",
    "test_image=image.load_img(\"COVID19(118).jpg\",target_size=(128,128))\n",
    "plt.imshow(test_image)\n",
    "test_image=image.img_to_array(test_image)\n",
    "test_image=np.expand_dims(test_image,axis=0)\n",
    "result=covid1.predict(test_image)\n",
    "train_generator.class_indices"
   ]
  },
  {
   "cell_type": "code",
   "execution_count": 58,
   "metadata": {},
   "outputs": [
    {
     "data": {
      "text/plain": [
       "array([[1., 0., 0.]], dtype=float32)"
      ]
     },
     "execution_count": 58,
     "metadata": {},
     "output_type": "execute_result"
    }
   ],
   "source": [
    "result"
   ]
  },
  {
   "cell_type": "code",
   "execution_count": 60,
   "metadata": {},
   "outputs": [
    {
     "name": "stdout",
     "output_type": "stream",
     "text": [
      "You are Corona Positive\n"
     ]
    }
   ],
   "source": [
    "maxi=result[0][0]\n",
    "max_in=0\n",
    "for i in result[0]:\n",
    "    if i> maxi:\n",
    "        maxi=i\n",
    "        max_in=list(result[0]).index(i)\n",
    "if max_in==0:\n",
    "    print(\"You are Corona Positive\")\n",
    "elif max_in==1:\n",
    "    print(\"You X-Ray is Normal\")\n",
    "else:\n",
    "    print(\"You are suffering from Pneumonia\")"
   ]
  },
  {
   "cell_type": "markdown",
   "metadata": {},
   "source": [
    "In this notebook I have not used the concept of transfer learning,so even though the accuracy is high, model might not predict correctly sometimes.Using pretrained models like Vgg-16, and training the model on more images will surely solve the problem."
   ]
  }
 ],
 "metadata": {
  "kernelspec": {
   "display_name": "Python 3",
   "language": "python",
   "name": "python3"
  },
  "language_info": {
   "codemirror_mode": {
    "name": "ipython",
    "version": 3
   },
   "file_extension": ".py",
   "mimetype": "text/x-python",
   "name": "python",
   "nbconvert_exporter": "python",
   "pygments_lexer": "ipython3",
   "version": "3.7.6"
  }
 },
 "nbformat": 4,
 "nbformat_minor": 4
}
